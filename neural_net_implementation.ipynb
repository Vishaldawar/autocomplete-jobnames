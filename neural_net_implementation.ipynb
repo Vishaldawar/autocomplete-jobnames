{
 "cells": [
  {
   "cell_type": "code",
   "execution_count": 23,
   "id": "e016491f-a380-4541-8f4f-2ca11811b866",
   "metadata": {},
   "outputs": [],
   "source": [
    "import pandas as pd\n",
    "import numpy as np\n",
    "\n",
    "import warnings\n",
    "warnings.filterwarnings('ignore')\n",
    "\n",
    "import torch\n",
    "from torch import nn\n",
    "import torch.nn.functional as F\n",
    "import re"
   ]
  },
  {
   "cell_type": "code",
   "execution_count": 4,
   "id": "2f5fcf6d-524c-49f4-8f88-72aa8fbd7d95",
   "metadata": {},
   "outputs": [
    {
     "data": {
      "text/html": [
       "<div>\n",
       "<style scoped>\n",
       "    .dataframe tbody tr th:only-of-type {\n",
       "        vertical-align: middle;\n",
       "    }\n",
       "\n",
       "    .dataframe tbody tr th {\n",
       "        vertical-align: top;\n",
       "    }\n",
       "\n",
       "    .dataframe thead th {\n",
       "        text-align: right;\n",
       "    }\n",
       "</style>\n",
       "<table border=\"1\" class=\"dataframe\">\n",
       "  <thead>\n",
       "    <tr style=\"text-align: right;\">\n",
       "      <th></th>\n",
       "      <th>job_name</th>\n",
       "      <th>company</th>\n",
       "      <th>location</th>\n",
       "      <th>joburl</th>\n",
       "    </tr>\n",
       "  </thead>\n",
       "  <tbody>\n",
       "    <tr>\n",
       "      <th>0</th>\n",
       "      <td>Machine Learning Engineer II</td>\n",
       "      <td>Atlassian</td>\n",
       "      <td>Bengaluru, Karnataka, India (Remote)</td>\n",
       "      <td>https://www.linkedin.com/jobs/view/4219958889/...</td>\n",
       "    </tr>\n",
       "    <tr>\n",
       "      <th>1</th>\n",
       "      <td>Senior Machine Learning Engineer - II</td>\n",
       "      <td>Adobe</td>\n",
       "      <td>Noida, Uttar Pradesh, India</td>\n",
       "      <td>https://www.linkedin.com/jobs/view/4223614905/...</td>\n",
       "    </tr>\n",
       "    <tr>\n",
       "      <th>2</th>\n",
       "      <td>Senior Machine Learning Engineer</td>\n",
       "      <td>Target</td>\n",
       "      <td>Bengaluru, Karnataka, India (Hybrid)</td>\n",
       "      <td>https://www.linkedin.com/jobs/view/4215587397/...</td>\n",
       "    </tr>\n",
       "  </tbody>\n",
       "</table>\n",
       "</div>"
      ],
      "text/plain": [
       "                                job_name    company  \\\n",
       "0           Machine Learning Engineer II  Atlassian   \n",
       "1  Senior Machine Learning Engineer - II      Adobe   \n",
       "2       Senior Machine Learning Engineer     Target   \n",
       "\n",
       "                               location  \\\n",
       "0  Bengaluru, Karnataka, India (Remote)   \n",
       "1           Noida, Uttar Pradesh, India   \n",
       "2  Bengaluru, Karnataka, India (Hybrid)   \n",
       "\n",
       "                                              joburl  \n",
       "0  https://www.linkedin.com/jobs/view/4219958889/...  \n",
       "1  https://www.linkedin.com/jobs/view/4223614905/...  \n",
       "2  https://www.linkedin.com/jobs/view/4215587397/...  "
      ]
     },
     "execution_count": 4,
     "metadata": {},
     "output_type": "execute_result"
    }
   ],
   "source": [
    "jobs = pd.read_parquet(\"./all_jobs_db.parquet\")\n",
    "jobs.head(3)"
   ]
  },
  {
   "cell_type": "code",
   "execution_count": 32,
   "id": "c8f1106b-124d-4b10-8d60-f8c43253471b",
   "metadata": {},
   "outputs": [],
   "source": [
    "job_names = jobs['job_name'].values"
   ]
  },
  {
   "cell_type": "code",
   "execution_count": 33,
   "id": "e286f77d-2c64-4583-9236-87d1526c8866",
   "metadata": {},
   "outputs": [
    {
     "data": {
      "text/plain": [
       "array(['Machine Learning Engineer II',\n",
       "       'Senior Machine Learning Engineer - II',\n",
       "       'Senior Machine Learning Engineer', 'Senior ML Engineer'],\n",
       "      dtype=object)"
      ]
     },
     "execution_count": 33,
     "metadata": {},
     "output_type": "execute_result"
    }
   ],
   "source": [
    "job_names[:4]"
   ]
  },
  {
   "cell_type": "code",
   "execution_count": 34,
   "id": "4a0bf6e0-9ac3-4edb-b16c-220abdeacf9a",
   "metadata": {},
   "outputs": [],
   "source": [
    "job_names = [re.sub('[^a-zA-Z ]+', '', x.lower()) for x in job_names]"
   ]
  },
  {
   "cell_type": "code",
   "execution_count": 35,
   "id": "e22605c3-814f-4582-8b66-444599fa4955",
   "metadata": {},
   "outputs": [
    {
     "data": {
      "text/plain": [
       "['machine learning engineer ii',\n",
       " 'senior machine learning engineer  ii',\n",
       " 'senior machine learning engineer',\n",
       " 'senior ml engineer',\n",
       " 'machine learning engineer t',\n",
       " 'machine learning engineer',\n",
       " 'sr ml engineer',\n",
       " 'data insights and analytics engineer',\n",
       " 'machine learning engineer iii recommender systems',\n",
       " 'senior machine learning engineer']"
      ]
     },
     "execution_count": 35,
     "metadata": {},
     "output_type": "execute_result"
    }
   ],
   "source": [
    "job_names[:10]"
   ]
  },
  {
   "cell_type": "code",
   "execution_count": 36,
   "id": "3da11ad5-7212-44c1-9344-a1b418130409",
   "metadata": {
    "scrolled": true
   },
   "outputs": [
    {
     "data": {
      "text/plain": [
       "{' ': 1,\n",
       " 'a': 2,\n",
       " 'b': 3,\n",
       " 'c': 4,\n",
       " 'd': 5,\n",
       " 'e': 6,\n",
       " 'f': 7,\n",
       " 'g': 8,\n",
       " 'h': 9,\n",
       " 'i': 10,\n",
       " 'j': 11,\n",
       " 'k': 12,\n",
       " 'l': 13,\n",
       " 'm': 14,\n",
       " 'n': 15,\n",
       " 'o': 16,\n",
       " 'p': 17,\n",
       " 'q': 18,\n",
       " 'r': 19,\n",
       " 's': 20,\n",
       " 't': 21,\n",
       " 'u': 22,\n",
       " 'v': 23,\n",
       " 'w': 24,\n",
       " 'x': 25,\n",
       " 'y': 26,\n",
       " 'z': 27,\n",
       " '.': 0}"
      ]
     },
     "execution_count": 36,
     "metadata": {},
     "output_type": "execute_result"
    }
   ],
   "source": [
    "s = sorted(list(set(''.join(job_names))))\n",
    "stoi = {x:i+1 for i,x in enumerate(s)}\n",
    "itos = {i+1:x for i,x in enumerate(s)}\n",
    "stoi['.'] = 0\n",
    "itos[0] = '.'\n",
    "stoi"
   ]
  },
  {
   "cell_type": "code",
   "execution_count": 61,
   "id": "32b4abb7-e545-45a8-9a29-67ae4d685e08",
   "metadata": {
    "scrolled": true
   },
   "outputs": [
    {
     "name": "stdout",
     "output_type": "stream",
     "text": [
      "machine learning engineer ii\n",
      "... ---> m\n",
      "..m ---> a\n",
      ".ma ---> c\n",
      "mac ---> h\n",
      "ach ---> i\n",
      "chi ---> n\n",
      "hin ---> e\n",
      "ine --->  \n",
      "ne  ---> l\n",
      "e l ---> e\n",
      " le ---> a\n",
      "lea ---> r\n",
      "ear ---> n\n",
      "arn ---> i\n",
      "rni ---> n\n",
      "nin ---> g\n",
      "ing --->  \n",
      "ng  ---> e\n",
      "g e ---> n\n",
      " en ---> g\n",
      "eng ---> i\n",
      "ngi ---> n\n",
      "gin ---> e\n",
      "ine ---> e\n",
      "nee ---> r\n",
      "eer --->  \n",
      "er  ---> i\n",
      "r i ---> i\n",
      " ii ---> .\n",
      "senior machine learning engineer  ii\n",
      "... ---> s\n",
      "..s ---> e\n",
      ".se ---> n\n",
      "sen ---> i\n",
      "eni ---> o\n",
      "nio ---> r\n",
      "ior --->  \n",
      "or  ---> m\n",
      "r m ---> a\n",
      " ma ---> c\n",
      "mac ---> h\n",
      "ach ---> i\n",
      "chi ---> n\n",
      "hin ---> e\n",
      "ine --->  \n",
      "ne  ---> l\n",
      "e l ---> e\n",
      " le ---> a\n",
      "lea ---> r\n",
      "ear ---> n\n",
      "arn ---> i\n",
      "rni ---> n\n",
      "nin ---> g\n",
      "ing --->  \n",
      "ng  ---> e\n",
      "g e ---> n\n",
      " en ---> g\n",
      "eng ---> i\n",
      "ngi ---> n\n",
      "gin ---> e\n",
      "ine ---> e\n",
      "nee ---> r\n",
      "eer --->  \n",
      "er  --->  \n",
      "r   ---> i\n",
      "  i ---> i\n",
      " ii ---> .\n",
      "senior machine learning engineer\n",
      "... ---> s\n",
      "..s ---> e\n",
      ".se ---> n\n",
      "sen ---> i\n",
      "eni ---> o\n",
      "nio ---> r\n",
      "ior --->  \n",
      "or  ---> m\n",
      "r m ---> a\n",
      " ma ---> c\n",
      "mac ---> h\n",
      "ach ---> i\n",
      "chi ---> n\n",
      "hin ---> e\n",
      "ine --->  \n",
      "ne  ---> l\n",
      "e l ---> e\n",
      " le ---> a\n",
      "lea ---> r\n",
      "ear ---> n\n",
      "arn ---> i\n",
      "rni ---> n\n",
      "nin ---> g\n",
      "ing --->  \n",
      "ng  ---> e\n",
      "g e ---> n\n",
      " en ---> g\n",
      "eng ---> i\n",
      "ngi ---> n\n",
      "gin ---> e\n",
      "ine ---> e\n",
      "nee ---> r\n",
      "eer ---> .\n",
      "senior ml engineer\n",
      "... ---> s\n",
      "..s ---> e\n",
      ".se ---> n\n",
      "sen ---> i\n",
      "eni ---> o\n",
      "nio ---> r\n",
      "ior --->  \n",
      "or  ---> m\n",
      "r m ---> l\n",
      " ml --->  \n",
      "ml  ---> e\n",
      "l e ---> n\n",
      " en ---> g\n",
      "eng ---> i\n",
      "ngi ---> n\n",
      "gin ---> e\n",
      "ine ---> e\n",
      "nee ---> r\n",
      "eer ---> .\n",
      "machine learning engineer t\n",
      "... ---> m\n",
      "..m ---> a\n",
      ".ma ---> c\n",
      "mac ---> h\n",
      "ach ---> i\n",
      "chi ---> n\n",
      "hin ---> e\n",
      "ine --->  \n",
      "ne  ---> l\n",
      "e l ---> e\n",
      " le ---> a\n",
      "lea ---> r\n",
      "ear ---> n\n",
      "arn ---> i\n",
      "rni ---> n\n",
      "nin ---> g\n",
      "ing --->  \n",
      "ng  ---> e\n",
      "g e ---> n\n",
      " en ---> g\n",
      "eng ---> i\n",
      "ngi ---> n\n",
      "gin ---> e\n",
      "ine ---> e\n",
      "nee ---> r\n",
      "eer --->  \n",
      "er  ---> t\n",
      "r t ---> .\n"
     ]
    }
   ],
   "source": [
    "block_size = 3\n",
    "X, Y = [], []\n",
    "for w in job_names[:5]:\n",
    "    print(w)\n",
    "    context = [0]*block_size\n",
    "    for ch in w + '.':\n",
    "        ix = stoi[ch]\n",
    "        X.append(context)\n",
    "        Y.append(ix)\n",
    "        print(''.join(itos[i] for i in context),'--->',itos[ix])\n",
    "        context = context[1:]+[ix]\n",
    "\n",
    "\n",
    "X = torch.tensor(X)\n",
    "Y = torch.tensor(Y)"
   ]
  },
  {
   "cell_type": "code",
   "execution_count": 66,
   "id": "8754e44e-e956-487b-ba2c-92dd302bf0c2",
   "metadata": {
    "scrolled": true
   },
   "outputs": [],
   "source": [
    "block_size = 3\n",
    "X, Y = [], []\n",
    "for w in job_names:\n",
    "    # print(w)\n",
    "    context = [0]*block_size\n",
    "    for ch in w + '.':\n",
    "        ix = stoi[ch]\n",
    "        X.append(context)\n",
    "        Y.append(ix)\n",
    "        # print(''.join(itos[i] for i in context),'--->',itos[ix])\n",
    "        context = context[1:]+[ix]\n",
    "\n",
    "\n",
    "X = torch.tensor(X)\n",
    "Y = torch.tensor(Y)"
   ]
  },
  {
   "cell_type": "code",
   "execution_count": 67,
   "id": "1bdbd967-fd8e-47c7-8daf-e56a697f1cd3",
   "metadata": {},
   "outputs": [
    {
     "data": {
      "text/plain": [
       "(torch.Size([25826, 3]), torch.Size([25826]))"
      ]
     },
     "execution_count": 67,
     "metadata": {},
     "output_type": "execute_result"
    }
   ],
   "source": [
    "X.shape, Y.shape"
   ]
  },
  {
   "cell_type": "code",
   "execution_count": 77,
   "id": "3856e5e5-0606-4f78-9a1d-1a896cbf34fc",
   "metadata": {},
   "outputs": [],
   "source": [
    "g = torch.Generator().manual_seed(142)\n",
    "C = torch.randn((28,2), generator=g)\n",
    "W1 = torch.randn((6,100), generator=g)\n",
    "b1 = torch.randn(100, generator=g)\n",
    "W2 = torch.randn((100,28), generator=g)\n",
    "b2 = torch.randn(28, generator=g)\n",
    "parameters = [C, W1, b1, W2, b2]"
   ]
  },
  {
   "cell_type": "code",
   "execution_count": 78,
   "id": "d9052ff9-7037-4d26-8d45-30d9e5141283",
   "metadata": {},
   "outputs": [
    {
     "data": {
      "text/plain": [
       "3584"
      ]
     },
     "execution_count": 78,
     "metadata": {},
     "output_type": "execute_result"
    }
   ],
   "source": [
    "sum([p.numel() for p in parameters])"
   ]
  },
  {
   "cell_type": "code",
   "execution_count": 79,
   "id": "ec484efe-e585-40a6-9c04-a4b758c02009",
   "metadata": {},
   "outputs": [
    {
     "data": {
      "text/plain": [
       "(25826, torch.Size([25826, 27]))"
      ]
     },
     "execution_count": 79,
     "metadata": {},
     "output_type": "execute_result"
    }
   ],
   "source": [
    "X.shape[0], prob.shape"
   ]
  },
  {
   "cell_type": "code",
   "execution_count": 80,
   "id": "01514dca-5957-4d0f-88dd-50105fe0c59d",
   "metadata": {},
   "outputs": [
    {
     "data": {
      "text/plain": [
       "tensor(17.4761)"
      ]
     },
     "execution_count": 80,
     "metadata": {},
     "output_type": "execute_result"
    }
   ],
   "source": [
    "emb = C[X]\n",
    "h = torch.tanh(emb.view(-1,6) @ W1 + b1)\n",
    "logits = h @ W2 + b2\n",
    "counts = logits.exp()\n",
    "prob = counts / counts.sum(1, keepdims=True)\n",
    "loss = -prob[torch.arange(25826), Y].log().mean()\n",
    "loss"
   ]
  },
  {
   "cell_type": "code",
   "execution_count": 81,
   "id": "575f5906-df7c-4e33-a42a-a81de66de29d",
   "metadata": {},
   "outputs": [
    {
     "data": {
      "text/plain": [
       "tensor(17.4761)"
      ]
     },
     "execution_count": 81,
     "metadata": {},
     "output_type": "execute_result"
    }
   ],
   "source": [
    "F.cross_entropy(logits, Y)"
   ]
  },
  {
   "cell_type": "code",
   "execution_count": 82,
   "id": "3cfa4937-a1ca-4f91-97dd-67d2c3a731f1",
   "metadata": {},
   "outputs": [],
   "source": [
    "for p in parameters:\n",
    "    p.requires_grad = True"
   ]
  },
  {
   "cell_type": "code",
   "execution_count": 103,
   "id": "f920836b-30a9-4888-b131-d2f527de4da4",
   "metadata": {},
   "outputs": [
    {
     "name": "stdout",
     "output_type": "stream",
     "text": [
      "2.0488367080688477\n",
      "2.022970199584961\n",
      "1.9992038011550903\n",
      "1.9772974252700806\n",
      "1.9570364952087402\n",
      "1.938232660293579\n",
      "1.9207197427749634\n",
      "1.9043480157852173\n",
      "1.888980746269226\n",
      "1.8744957447052002\n"
     ]
    }
   ],
   "source": [
    "for i in range(100):\n",
    "    emb = C[X]\n",
    "    h = torch.tanh(emb.view(-1,6) @ W1 + b1)\n",
    "    logits = h @ W2 + b2\n",
    "    loss = F.cross_entropy(logits, Y)\n",
    "    for p in parameters:\n",
    "        p.grad = None\n",
    "    \n",
    "    loss.backward()\n",
    "    for p in parameters:\n",
    "        p.data += -0.1*p.grad\n",
    "    if i%10 == 0:\n",
    "        print(loss.item())"
   ]
  },
  {
   "cell_type": "code",
   "execution_count": 126,
   "id": "1eb8a311-27fd-4c8f-b7d6-a87579562642",
   "metadata": {},
   "outputs": [
    {
     "name": "stdout",
     "output_type": "stream",
     "text": [
      "sentir.\n",
      "saeaialest.\n",
      "csenior mne.\n",
      "rie.\n",
      "seni recsengirdarakoiengineert.\n",
      "siniagalpiatnci ng eagscieniorlsengir  aepiatesti.\n",
      "sagrrcsaeesoprsentister mneagadadedeo dng engine pile aianaen ing enieraphmachineer.\n",
      "csenior.\n",
      "eadeciencipnthrretntngn aen  eaagaea oa schrnei dic  attkt.\n",
      "ses.\n",
      "aeninginier asaiese.\n",
      "tie liefe.\n",
      "sad l  s eecse  calcts iec in  ee r l lagdlo ri asciencigr  s dec mngenior medltmader dcncbaniagid sne chiintancigneachmatni r aaveejafoagnd ltiaaajctenciencepe nti de.\n",
      "tie.\n",
      "senfealalngnelo.\n",
      "aiie sotoat atain  englngsne ntientwarnginaening rtcseniniatnini lealiarn in  entist.\n",
      "siie soa scineer ml  ageie.\n",
      "l ineer adaiadat ascientisi.\n",
      "ltst ainagndagachineer.\n",
      "seneiafiurve.\n"
     ]
    }
   ],
   "source": [
    "g = torch.Generator().manual_seed(100)\n",
    "for _ in range(20):\n",
    "    out = []\n",
    "    context = [0]* block_size\n",
    "    while True:\n",
    "        emb = C[torch.tensor([context])]\n",
    "        h = torch.tanh(emb.view(1, -1) @ W1 + b1)\n",
    "        logits = h @ W2 + b2\n",
    "        probs = F.softmax(logits, dim=1)\n",
    "        ix = torch.multinomial(probs, num_samples=1, generator = g).item()\n",
    "        context = context[1:] + [ix]\n",
    "        out.append(ix)\n",
    "        if ix == 0:\n",
    "            break\n",
    "\n",
    "    print(''.join(itos[i] for i in out))"
   ]
  },
  {
   "cell_type": "code",
   "execution_count": 106,
   "id": "1a0cee41-203a-4052-ac3f-d244d8136243",
   "metadata": {},
   "outputs": [
    {
     "data": {
      "text/plain": [
       "Sequential(\n",
       "  (0): Linear(in_features=28, out_features=6, bias=False)\n",
       "  (1): Linear(in_features=6, out_features=100, bias=True)\n",
       "  (2): Tanh()\n",
       "  (3): Linear(in_features=100, out_features=28, bias=True)\n",
       "  (4): Softmax(dim=None)\n",
       ")"
      ]
     },
     "execution_count": 106,
     "metadata": {},
     "output_type": "execute_result"
    }
   ],
   "source": [
    "model = nn.Sequential(\n",
    "    nn.Linear(in_features = 28, out_features = 6, bias=False),\n",
    "    nn.Linear(in_features = 6, out_features = 100),\n",
    "    nn.Tanh(),\n",
    "    nn.Linear(in_features = 100, out_features = 28),\n",
    "    nn.Softmax()\n",
    ")\n",
    "model"
   ]
  },
  {
   "cell_type": "code",
   "execution_count": 128,
   "id": "462e7cde-fb9d-40fb-ad7e-ab37e1799474",
   "metadata": {},
   "outputs": [],
   "source": [
    "loss_fn = nn.CrossEntropyLoss()\n",
    "optimizer = torch.optim.SGD(params=model.parameters(), lr = 0.1)"
   ]
  },
  {
   "cell_type": "code",
   "execution_count": null,
   "id": "bcd90681-f690-4c06-84db-0866d794c676",
   "metadata": {},
   "outputs": [],
   "source": [
    "for epoch in range(100):\n",
    "    model.train()\n",
    "    pred = model(X)\n",
    "    y_logits = model(self.X_train).squeeze() # squeeze to remove extra `1` dimensions, this won't work unless model and data are on same device \n",
    "    y_pred = nn.functional.softmax(y_logits) # turn logits -> pred probs -> pred labls\n",
    "    \n",
    "    loss = loss_fn(y_logits, Y)\n",
    "    \n",
    "    optimizer.zero_grad()\n",
    "    \n",
    "    loss.backward()\n",
    "\n",
    "    optimizer.step()\n",
    "\n",
    "    "
   ]
  }
 ],
 "metadata": {
  "kernelspec": {
   "display_name": "Python 3 (ipykernel)",
   "language": "python",
   "name": "python3"
  },
  "language_info": {
   "codemirror_mode": {
    "name": "ipython",
    "version": 3
   },
   "file_extension": ".py",
   "mimetype": "text/x-python",
   "name": "python",
   "nbconvert_exporter": "python",
   "pygments_lexer": "ipython3",
   "version": "3.9.6"
  }
 },
 "nbformat": 4,
 "nbformat_minor": 5
}
